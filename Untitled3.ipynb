{
  "nbformat": 4,
  "nbformat_minor": 0,
  "metadata": {
    "colab": {
      "name": "Untitled3.ipynb",
      "provenance": [],
      "authorship_tag": "ABX9TyOZZpJ/Fwl97tr/073+bNIy",
      "include_colab_link": true
    },
    "kernelspec": {
      "name": "python3",
      "display_name": "Python 3"
    },
    "language_info": {
      "name": "python"
    }
  },
  "cells": [
    {
      "cell_type": "markdown",
      "metadata": {
        "id": "view-in-github",
        "colab_type": "text"
      },
      "source": [
        "<a href=\"https://colab.research.google.com/github/Elias98upc/Semana-2-de-clase-de-algoritmos/blob/main/Untitled3.ipynb\" target=\"_parent\"><img src=\"https://colab.research.google.com/assets/colab-badge.svg\" alt=\"Open In Colab\"/></a>"
      ]
    },
    {
      "cell_type": "code",
      "source": [
        "from google.colab import drive\n",
        "\n",
        "drive.mount('/gdrive')#abrir un dispositivo de almacenamiento externo"
      ],
      "metadata": {
        "colab": {
          "base_uri": "https://localhost:8080/"
        },
        "id": "tFDsW2Dhvdo6",
        "outputId": "c4e31131-5e2b-4b20-e3c6-02294ce6a7ab"
      },
      "execution_count": null,
      "outputs": [
        {
          "output_type": "stream",
          "name": "stdout",
          "text": [
            "Drive already mounted at /gdrive; to attempt to forcibly remount, call drive.mount(\"/gdrive\", force_remount=True).\n"
          ]
        }
      ]
    },
    {
      "cell_type": "code",
      "source": [
        "!cp /gdrive/MyDrive/ALGYDATOS/flights_.csv /content"
      ],
      "metadata": {
        "id": "YmHwmiEswD-j"
      },
      "execution_count": null,
      "outputs": []
    },
    {
      "cell_type": "code",
      "source": [
        "!head flights_.csv"
      ],
      "metadata": {
        "colab": {
          "base_uri": "https://localhost:8080/"
        },
        "id": "X90FCArH1LKJ",
        "outputId": "01dbc89e-e13e-487a-f9c1-e5674294bb73"
      },
      "execution_count": null,
      "outputs": [
        {
          "output_type": "stream",
          "name": "stdout",
          "text": [
            "2015,1,1,4,\"AS\",98,\"N407AS\",\"ANC\",\"SEA\",5,2354,-11,21,15,205,194,169,1448,404,4,430,408,-22,0,0,\"\",0,0,0,0,0\r\n",
            "2015,1,1,4,\"AA\",2336,\"N3KUAA\",\"LAX\",\"PBI\",10,2,-8,12,14,280,279,263,2330,737,4,750,741,-9,0,0,\"\",0,0,0,0,0\r\n",
            "2015,1,1,4,\"US\",840,\"N171US\",\"SFO\",\"CLT\",20,18,-2,16,34,286,293,266,2296,800,11,806,811,5,0,0,\"\",0,0,0,0,0\r\n",
            "2015,1,1,4,\"AA\",258,\"N3HYAA\",\"LAX\",\"MIA\",20,15,-5,15,30,285,281,258,2342,748,8,805,756,-9,0,0,\"\",0,0,0,0,0\r\n",
            "2015,1,1,4,\"AS\",135,\"N527AS\",\"SEA\",\"ANC\",25,24,-1,11,35,235,215,199,1448,254,5,320,259,-21,0,0,\"\",0,0,0,0,0\r\n",
            "2015,1,1,4,\"DL\",806,\"N3730B\",\"SFO\",\"MSP\",25,20,-5,18,38,217,230,206,1589,604,6,602,610,8,0,0,\"\",0,0,0,0,0\r\n",
            "2015,1,1,4,\"NK\",612,\"N635NK\",\"LAS\",\"MSP\",25,19,-6,11,30,181,170,154,1299,504,5,526,509,-17,0,0,\"\",0,0,0,0,0\r\n",
            "2015,1,1,4,\"US\",2013,\"N584UW\",\"LAX\",\"CLT\",30,44,14,13,57,273,249,228,2125,745,8,803,753,-10,0,0,\"\",0,0,0,0,0\r\n",
            "2015,1,1,4,\"AA\",1112,\"N3LAAA\",\"SFO\",\"DFW\",30,19,-11,17,36,195,193,173,1464,529,3,545,532,-13,0,0,\"\",0,0,0,0,0\r\n",
            "2015,1,1,4,\"DL\",1173,\"N826DN\",\"LAS\",\"ATL\",30,33,3,12,45,221,203,186,1747,651,5,711,656,-15,0,0,\"\",0,0,0,0,0\r\n"
          ]
        }
      ]
    },
    {
      "cell_type": "code",
      "source": [
        "%%writefile programa.cpp\n",
        "\n",
        "#include <iostream>\n",
        "\n",
        "#include <string>\n",
        "\n",
        "#include <vector>\n",
        "\n",
        "using namespace std;\n",
        "\n",
        "struct Registro{    \n",
        "\n",
        "    int c[26];\n",
        "\n",
        "    string airline, tailNumber, origAirport, destAirport, cancReason;     \n",
        "\n",
        "};\n",
        "\n",
        "int main(){\n",
        "    \n",
        "     //para medir el tiempo de ejecucion\n",
        "    unsigned t1, t2; \n",
        "\n",
        "    Registro r;\n",
        "\n",
        "    vector<Registro> registros;    \n",
        "\n",
        "    char airline[10], tailNumber[10], origAirport[10], destAirport[10],cancReason[10];  \n",
        "//para medir el tiempo de ejecucion\n",
        "    t1=clock();\n",
        "\n",
        "    FILE* archivo=fopen(\"flights_.csv\",\"r\");//File lee mas rapido los datos masimos que al usar oftream\n",
        "\n",
        "    long c=0;\n",
        "//      (lee con formato(lo que voy a leer,.........\n",
        "    while(fscanf(archivo,\"%d,%d,%d,%d,%[^,],%d,%[^,],%[^,],%[^,],%d,%d,%d,%d,%d,%d,%d,%d,%d,%d,%d,%d,%d,%d,%d,%d,%[^,],%d,%d,%d,%d,%d\",\n",
        "                      //%d-> numeros\n",
        "                      //%[^,]-> letras\n",
        "                 &r.c[0],&r.c[1],&r.c[2],&r.c[3],airline,&r.c[4]\n",
        "  //guarda en una variable, primera direccion de memoria,..........\n",
        "                 ,tailNumber, origAirport, destAirport,&r.c[5],&r.c[6],\n",
        "\n",
        "                 &r.c[7],&r.c[8],&r.c[9],&r.c[10],&r.c[11],&r.c[12],&r.c[13],\n",
        "\n",
        "                 &r.c[14],&r.c[15],&r.c[16],&r.c[17],&r.c[18],&r.c[19],&r.c[20],\n",
        "\n",
        "                 cancReason,&r.c[21],&r.c[22],&r.c[23],&r.c[24],&r.c[25])!=EOF){\n",
        "                                                                      //)lo lee hata aqui){\n",
        "        ++c;\n",
        "//inserta un nuevo elemento al final del vector y aumenta el tamaño del vector en uno .\n",
        "      registros.push_back(r);\n",
        "\n",
        "    }\n",
        "//capturamos el archivo\n",
        "    fclose(archivo);\n",
        "//para medir el tiempo de ejecucion\n",
        "    t2=clock();\n",
        "//para medir el tiempo de ejecucion\n",
        "    double tiempo= (double(t2-t1)/CLOCKS_PER_SEC);\n",
        "\n",
        "    cout<<\"Lectura de filas \"<<c<<endl;\n",
        "\n",
        "    cout<<\"Escritura de filas \"<<registros.size()<<endl;\n",
        "\n",
        "    cout<<\"El tiempo de ejecución es:\"<<tiempo<<endl;\n",
        "\n",
        "\n",
        "\n",
        "}"
      ],
      "metadata": {
        "colab": {
          "base_uri": "https://localhost:8080/"
        },
        "id": "TcSdjw2IuegN",
        "outputId": "b57d6d02-134d-4b68-bada-7bd6a380b6b4"
      },
      "execution_count": null,
      "outputs": [
        {
          "output_type": "stream",
          "name": "stdout",
          "text": [
            "Overwriting programa.cpp\n"
          ]
        }
      ]
    },
    {
      "cell_type": "code",
      "source": [
        "!g++ programa.cpp && ./a.out"
      ],
      "metadata": {
        "colab": {
          "base_uri": "https://localhost:8080/"
        },
        "id": "NDuxP2GwvFmF",
        "outputId": "a02b615e-7ac5-4247-d995-a038d40bb3d9"
      },
      "execution_count": null,
      "outputs": [
        {
          "output_type": "stream",
          "name": "stdout",
          "text": [
            "tcmalloc: large alloc 1107296256 bytes == 0x5599c74ce000 @  0x7f92e087e887 0x5599832a6212 0x5599832a60bb 0x5599832a5f16 0x5599832a5866 0x5599832a5649 0x5599832a5286 0x7f92dfed8c87 0x5599832a4f9a\n",
            "tcmalloc: large alloc 2214592512 bytes == 0x559a094ce000 @  0x7f92e087e887 0x5599832a6212 0x5599832a60bb 0x5599832a5f16 0x5599832a5866 0x5599832a5649 0x5599832a5286 0x7f92dfed8c87 0x5599832a4f9a\n",
            "Lectura de filas 5714008\n",
            "Escritura de filas 5714008\n",
            "El tiempo de ejecución es:17.1913\n"
          ]
        }
      ]
    },
    {
      "cell_type": "markdown",
      "source": [
        "#Version 2-Con POO"
      ],
      "metadata": {
        "id": "0iI4Q4pISQqd"
      }
    },
    {
      "cell_type": "code",
      "source": [
        "%%writefile programa.cpp\n",
        "#include <iostream>\n",
        "#include <string>\n",
        "#include <vector>\n",
        "using namespace std;\n",
        "class Registro{        \n",
        "    int c[26];\n",
        "    string airline, tailNumber, origAirport, destAirport, cancReason;\t    \n",
        "    friend class Vuelos;//vinculamos la Class Vuelos para dicirle a nuestra\n",
        "    //Class registro que sus privados pueden ser usadas como publicas por la Class Vuelos\n",
        "  \n",
        "    public:\n",
        "    Registro(){}//contructor\n",
        "    string toString(){\n",
        "        string _string;\n",
        "        for(size_t i=0;i<26;++i)\n",
        "            _string+=to_string(c[i])+\" \";\n",
        "      _string+=airline+\" \"+tailNumber+\" \"+origAirport+\" \"+destAirport+\" \"+cancReason;\n",
        "      return _string;\n",
        "    }\n",
        "};    \n",
        "\n",
        "\n",
        "class Vuelos{\n",
        "    vector<Registro> registros;    \n",
        "\n",
        "    public:\n",
        "    Vuelos(){}\n",
        "\n",
        "  void insertar()\n",
        "  {\n",
        "    unsigned t1, t2;\n",
        "    Registro r;\n",
        "    \n",
        "    char airline[10], tailNumber[10], origAirport[10], destAirport[10],cancReason[10];\t\n",
        "    t1=clock();\n",
        "    FILE* archivo=fopen(\"flights_.csv\",\"r\");\n",
        "    long c=0;\n",
        "    while(fscanf(archivo,\"%d,%d,%d,%d,%[^,],%d,%[^,],%[^,],%[^,],%d,%d,%d,%d,%d,%d,%d,%d,%d,%d,%d,%d,%d,%d,%d,%d,%[^,],%d,%d,%d,%d,%d\",\n",
        "                 &r.c[0],&r.c[1],&r.c[2],&r.c[3],airline,&r.c[4],\n",
        "                 tailNumber, origAirport, destAirport,&r.c[5],&r.c[6],\n",
        "                 &r.c[7],&r.c[8],&r.c[9],&r.c[10],&r.c[11],&r.c[12],&r.c[13],\n",
        "                 &r.c[14],&r.c[15],&r.c[16],&r.c[17],&r.c[18],&r.c[19],&r.c[20],\n",
        "                 cancReason,&r.c[21],&r.c[22],&r.c[23],&r.c[24],&r.c[25])!=EOF){\n",
        "        ++c;\n",
        "      registros.push_back(r);\n",
        "      r.airline=airline;\n",
        "      r.tailNumber=tailNumber;\n",
        "      r.origAirport=origAirport;\n",
        "      r.destAirport=destAirport;\n",
        "      r.cancReason=cancReason;\n",
        "    }\n",
        "    fclose(archivo);\n",
        "    t2=clock();\n",
        "    double tiempo= (double(t2-t1)/CLOCKS_PER_SEC);\n",
        "    cout<<\"Lectura de filas \"<<c<<endl;\n",
        "    cout<<\"Escritura de filas \"<<registros.size()<<endl;\n",
        "    cout<<\"El tiempo de ejecución es:\"<<tiempo<<endl;\n",
        "  }  \n",
        "  string imprimir(long i)//nos devuele los registros como un solo objeto\n",
        "  {\n",
        "      return registros[i].toString();\n",
        "  }\n",
        "\n",
        "\n",
        "};\n",
        "\n",
        "\n",
        "int main(){\n",
        "  Vuelos v;\n",
        "  v.insertar();  \n",
        "  for(size_t i=0;i<10;++i)\n",
        "    cout<<v.imprimir(i)<<endl;\n",
        "\n",
        "}"
      ],
      "metadata": {
        "colab": {
          "base_uri": "https://localhost:8080/"
        },
        "id": "u-wGWolsRvIl",
        "outputId": "3173bcbb-394e-4c0b-b50e-19ef298c4f0a"
      },
      "execution_count": null,
      "outputs": [
        {
          "output_type": "stream",
          "name": "stdout",
          "text": [
            "Overwriting programa.cpp\n"
          ]
        }
      ]
    },
    {
      "cell_type": "code",
      "source": [
        "!g++ programa.cpp && ./a.out"
      ],
      "metadata": {
        "colab": {
          "base_uri": "https://localhost:8080/"
        },
        "id": "5c0zHICxShRX",
        "outputId": "f3ae1b78-3738-4a4a-d0d4-47162c7d2f0c"
      },
      "execution_count": null,
      "outputs": [
        {
          "output_type": "stream",
          "name": "stdout",
          "text": [
            "tcmalloc: large alloc 1107296256 bytes == 0x562ddaac0000 @  0x7fb7a2e04887 0x562d97d7379e 0x562d97d7350f 0x562d97d7330e 0x562d97d72c02 0x562d97d72935 0x562d97d7230a 0x562d97d71afa 0x7fb7a245ec87 0x562d97d719ea\n",
            "tcmalloc: large alloc 2214592512 bytes == 0x562e1cac0000 @  0x7fb7a2e04887 0x562d97d7379e 0x562d97d7350f 0x562d97d7330e 0x562d97d72c02 0x562d97d72935 0x562d97d7230a 0x562d97d71afa 0x7fb7a245ec87 0x562d97d719ea\n",
            "Lectura de filas 5714008\n",
            "Escritura de filas 5714008\n",
            "El tiempo de ejecución es:15.9169\n",
            "2015 1 1 4 98 5 2354 -11 21 15 205 194 169 1448 404 4 430 408 -22 0 0 0 0 0 0 0     \n",
            "2015 1 1 4 2336 10 2 -8 12 14 280 279 263 2330 737 4 750 741 -9 0 0 0 0 0 0 0 \"AS\" \"N407AS\" \"ANC\" \"SEA\" \"\"\n",
            "2015 1 1 4 840 20 18 -2 16 34 286 293 266 2296 800 11 806 811 5 0 0 0 0 0 0 0 \"AA\" \"N3KUAA\" \"LAX\" \"PBI\" \"\"\n",
            "2015 1 1 4 258 20 15 -5 15 30 285 281 258 2342 748 8 805 756 -9 0 0 0 0 0 0 0 \"US\" \"N171US\" \"SFO\" \"CLT\" \"\"\n",
            "2015 1 1 4 135 25 24 -1 11 35 235 215 199 1448 254 5 320 259 -21 0 0 0 0 0 0 0 \"AA\" \"N3HYAA\" \"LAX\" \"MIA\" \"\"\n",
            "2015 1 1 4 806 25 20 -5 18 38 217 230 206 1589 604 6 602 610 8 0 0 0 0 0 0 0 \"AS\" \"N527AS\" \"SEA\" \"ANC\" \"\"\n",
            "2015 1 1 4 612 25 19 -6 11 30 181 170 154 1299 504 5 526 509 -17 0 0 0 0 0 0 0 \"DL\" \"N3730B\" \"SFO\" \"MSP\" \"\"\n",
            "2015 1 1 4 2013 30 44 14 13 57 273 249 228 2125 745 8 803 753 -10 0 0 0 0 0 0 0 \"NK\" \"N635NK\" \"LAS\" \"MSP\" \"\"\n",
            "2015 1 1 4 1112 30 19 -11 17 36 195 193 173 1464 529 3 545 532 -13 0 0 0 0 0 0 0 \"US\" \"N584UW\" \"LAX\" \"CLT\" \"\"\n",
            "2015 1 1 4 1173 30 33 3 12 45 221 203 186 1747 651 5 711 656 -15 0 0 0 0 0 0 0 \"AA\" \"N3LAAA\" \"SFO\" \"DFW\" \"\"\n"
          ]
        }
      ]
    },
    {
      "cell_type": "markdown",
      "source": [
        "#Version 3-Propio vector"
      ],
      "metadata": {
        "id": "0Gx-0ASVZfy7"
      }
    },
    {
      "cell_type": "code",
      "source": [
        "%%writefile mivector.hpp\n",
        "#ifndef __MIVECTOR_H__\n",
        "#define __MIVECTOR_H__\n",
        "\n",
        "template <typename T>\n",
        "class MiVector {\n",
        "    T* elems;\n",
        "    int cap;\n",
        "    int numElems;\n",
        "public:\n",
        "\n",
        "    class iterator {\n",
        "        int i;\n",
        "        T* elems;\n",
        "    public:\n",
        "        iterator(int i=0, T* elems=nullptr)\n",
        "            : i(i), elems(elems) {}\n",
        "        void operator ++ () {\n",
        "            i++;\n",
        "        }\n",
        "        T operator * () {\n",
        "            return elems[i];\n",
        "        }\n",
        "        bool operator != (iterator b) {\n",
        "            return this->i != b.i;\n",
        "        }\n",
        "    };\n",
        "\n",
        "    iterator begin() {\n",
        "        return iterator(0, elems);\n",
        "    }\n",
        "    iterator end() {\n",
        "        return iterator(numElems, nullptr);\n",
        "    }\n",
        "\n",
        "    MiVector(int cap=5800000)\n",
        "        : elems(new T[cap]), cap(cap),\n",
        "          numElems(0) {}\n",
        "    ~MiVector() {\n",
        "        delete[] elems;\n",
        "    }\n",
        "    void push_back(T e){\n",
        "        elems[numElems++]=e;\n",
        "    }\n",
        "    long size(){return numElems;}\n",
        "    T operator[] (int i) const {\n",
        "        return elems[i];\n",
        "    }\n",
        "    T& operator[] (int i) {\n",
        "        return elems[i];\n",
        "    }\n",
        "\n",
        "void Merge(T *A1, T *A2, T *A, size_t n)\n",
        " {\n",
        "\tsize_t i = 0, j = 0, k = 0;\n",
        "\tsize_t mitad = n / 2;\n",
        "\twhile (i < mitad && j < n - mitad) {\n",
        "\t\tif (A1[i] < A2[j]) {\n",
        "\t\t\tA[k] = A1[i];\n",
        "\t\t\ti++;k++;\n",
        "\t\t}\n",
        "\t\telse {\n",
        "\t\t\tA[k] = A2[j];\n",
        "\t\t\tj++;k++;\n",
        "\t\t}\n",
        "\t}\n",
        "\twhile (i < mitad) {\n",
        "\t\tA[k] = A1[i];\n",
        "\t\ti++;k++;\n",
        "\t}\n",
        "\twhile (j < n - mitad) {\n",
        "\t\tA[k] = A2[j];\n",
        "\t\tj++;k++;\n",
        "\t}\n",
        " }\n",
        "//ordenamiento tipo mergeSort\n",
        "void mergeSort(T *A, size_t n)\n",
        " {\n",
        "\tif (n > 1) {\n",
        "\t\tsize_t mitad = n / 2;\n",
        "\t\tT *A1 = new int[mitad];\n",
        "\t\tT *A2 = new int[n-mitad];\n",
        "\n",
        "\t\tfor (int i = 0;i < mitad;i++) {\n",
        "\t\t\tA1[i] = A[i];\n",
        "\t\t}\n",
        "\t\tfor (int i = mitad;i < n;i++) {\n",
        "\t\t\tA2[i-mitad] = A[i];\n",
        "\t\t}\n",
        "\t\tmergeSort(A1, mitad);\n",
        "\t\tmergeSort(A2, n - mitad);\n",
        "\t\tMerge(A1, A2, A, n);\n",
        "\t}\n",
        "}\n",
        "\n",
        "\n",
        "\n",
        "};\n",
        "\n",
        "#endif"
      ],
      "metadata": {
        "colab": {
          "base_uri": "https://localhost:8080/"
        },
        "id": "QSs56s0aZ52p",
        "outputId": "6992ccc8-61a5-45f6-b72c-fd575733ec86"
      },
      "execution_count": null,
      "outputs": [
        {
          "output_type": "stream",
          "name": "stdout",
          "text": [
            "Overwriting mivector.hpp\n"
          ]
        }
      ]
    },
    {
      "cell_type": "code",
      "source": [
        "%%writefile programa.cpp\n",
        "#include <iostream>\n",
        "#include <string>\n",
        "#include \"mivector.hpp\"\n",
        "using namespace std;\n",
        "class Registro{        \n",
        "    int c[26];\n",
        "    string airline, tailNumber, origAirport, destAirport, cancReason;\t    \n",
        "    friend class Vuelos;    \n",
        "    public:\n",
        "    Registro(){}\n",
        "    string toString(){\n",
        "        string _string;\n",
        "        for(size_t i=0;i<26;++i)\n",
        "            _string+=to_string(c[i])+\" \";\n",
        "        _string+=airline+\" \"+tailNumber+\" \"+origAirport+\" \"+destAirport+\" \"+cancReason;\n",
        "      return _string;\n",
        "    }\n",
        "};    \n",
        "\n",
        "\n",
        "class Vuelos{\n",
        "    MiVector<Registro> registros;    \n",
        "\n",
        "    public:\n",
        "    Vuelos(){}\n",
        "\n",
        "  void insertar(){\n",
        "        unsigned t1, t2;\n",
        "    Registro r;\n",
        "    \n",
        "    char airline[10], tailNumber[10], origAirport[10], destAirport[10],cancReason[10];\t\n",
        "    t1=clock();\n",
        "    FILE* archivo=fopen(\"flights_.csv\",\"r\");\n",
        "    long c=0;\n",
        "    while(fscanf(archivo,\"%d,%d,%d,%d,%[^,],%d,%[^,],%[^,],%[^,],%d,%d,%d,%d,%d,%d,%d,%d,%d,%d,%d,%d,%d,%d,%d,%d,%[^,],%d,%d,%d,%d,%d\",\n",
        "                 &r.c[0],&r.c[1],&r.c[2],&r.c[3],airline,&r.c[4],\n",
        "                 tailNumber, origAirport, destAirport,&r.c[5],&r.c[6],\n",
        "                 &r.c[7],&r.c[8],&r.c[9],&r.c[10],&r.c[11],&r.c[12],&r.c[13],\n",
        "                 &r.c[14],&r.c[15],&r.c[16],&r.c[17],&r.c[18],&r.c[19],&r.c[20],\n",
        "                 cancReason,&r.c[21],&r.c[22],&r.c[23],&r.c[24],&r.c[25])!=EOF){\n",
        "        ++c;\n",
        "      registros.push_back(r);\n",
        "      r.airline=airline;\n",
        "      r.tailNumber=tailNumber;\n",
        "      r.origAirport=origAirport;\n",
        "      r.destAirport=destAirport;\n",
        "      r.cancReason=cancReason;\n",
        "    }\n",
        "    fclose(archivo);\n",
        "    t2=clock();\n",
        "    double tiempo= (double(t2-t1)/CLOCKS_PER_SEC);\n",
        "    cout<<\"Lectura de filas \"<<c<<endl;\n",
        "    cout<<\"Escritura de filas \"<<registros.size()<<endl;\n",
        "    cout<<\"El tiempo de ejecución es:\"<<tiempo<<endl;\n",
        "  }  \n",
        "  string imprimir(long i){\n",
        "      return registros[i].toString();\n",
        "  }\n",
        "\n",
        "\n",
        "};\n",
        "\n",
        "\n",
        "int main(){\n",
        "  Vuelos v;\n",
        "  v.insertar();  \n",
        "  for(size_t i=0;i<10;++i)\n",
        "    cout<<v.imprimir(i)<<endl;\n",
        "\n",
        "}"
      ],
      "metadata": {
        "colab": {
          "base_uri": "https://localhost:8080/"
        },
        "id": "GwF_jZTCaa67",
        "outputId": "42b3885a-84b0-44c1-f5c9-aedda62505a3"
      },
      "execution_count": null,
      "outputs": [
        {
          "output_type": "stream",
          "name": "stdout",
          "text": [
            "Overwriting programa.cpp\n"
          ]
        }
      ]
    },
    {
      "cell_type": "code",
      "source": [
        "!g++ programa.cpp && ./a.out"
      ],
      "metadata": {
        "colab": {
          "base_uri": "https://localhost:8080/"
        },
        "id": "cwUzk05kaiIk",
        "outputId": "7f4c35de-fcef-45c4-a65a-42ba248e5f10"
      },
      "execution_count": null,
      "outputs": [
        {
          "output_type": "stream",
          "name": "stdout",
          "text": [
            "tcmalloc: large alloc 1531207680 bytes == 0x5555b3b04000 @  0x7f2123b37887 0x5555b19f29dc 0x5555b19f2009 0x5555b19f1a7e 0x7f2123191c87 0x5555b19f197a\n",
            "Lectura de filas 5714008\n",
            "Escritura de filas 5714008\n",
            "El tiempo de ejecución es:13.6531\n",
            "2015 1 1 4 98 5 2354 -11 21 15 205 194 169 1448 404 4 430 408 -22 0 0 0 0 0 0 0     \n",
            "2015 1 1 4 2336 10 2 -8 12 14 280 279 263 2330 737 4 750 741 -9 0 0 0 0 0 0 0 \"AS\" \"N407AS\" \"ANC\" \"SEA\" \"\"\n",
            "2015 1 1 4 840 20 18 -2 16 34 286 293 266 2296 800 11 806 811 5 0 0 0 0 0 0 0 \"AA\" \"N3KUAA\" \"LAX\" \"PBI\" \"\"\n",
            "2015 1 1 4 258 20 15 -5 15 30 285 281 258 2342 748 8 805 756 -9 0 0 0 0 0 0 0 \"US\" \"N171US\" \"SFO\" \"CLT\" \"\"\n",
            "2015 1 1 4 135 25 24 -1 11 35 235 215 199 1448 254 5 320 259 -21 0 0 0 0 0 0 0 \"AA\" \"N3HYAA\" \"LAX\" \"MIA\" \"\"\n",
            "2015 1 1 4 806 25 20 -5 18 38 217 230 206 1589 604 6 602 610 8 0 0 0 0 0 0 0 \"AS\" \"N527AS\" \"SEA\" \"ANC\" \"\"\n",
            "2015 1 1 4 612 25 19 -6 11 30 181 170 154 1299 504 5 526 509 -17 0 0 0 0 0 0 0 \"DL\" \"N3730B\" \"SFO\" \"MSP\" \"\"\n",
            "2015 1 1 4 2013 30 44 14 13 57 273 249 228 2125 745 8 803 753 -10 0 0 0 0 0 0 0 \"NK\" \"N635NK\" \"LAS\" \"MSP\" \"\"\n",
            "2015 1 1 4 1112 30 19 -11 17 36 195 193 173 1464 529 3 545 532 -13 0 0 0 0 0 0 0 \"US\" \"N584UW\" \"LAX\" \"CLT\" \"\"\n",
            "2015 1 1 4 1173 30 33 3 12 45 221 203 186 1747 651 5 711 656 -15 0 0 0 0 0 0 0 \"AA\" \"N3LAAA\" \"SFO\" \"DFW\" \"\"\n"
          ]
        }
      ]
    }
  ]
}