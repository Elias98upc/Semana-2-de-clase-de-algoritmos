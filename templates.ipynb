{
  "nbformat": 4,
  "nbformat_minor": 0,
  "metadata": {
    "colab": {
      "name": "templates.ipynb",
      "provenance": [],
      "authorship_tag": "ABX9TyOQvD7tDXJMxIUIO7lHgE3U",
      "include_colab_link": true
    },
    "kernelspec": {
      "name": "python3",
      "display_name": "Python 3"
    },
    "language_info": {
      "name": "python"
    }
  },
  "cells": [
    {
      "cell_type": "markdown",
      "metadata": {
        "id": "view-in-github",
        "colab_type": "text"
      },
      "source": [
        "<a href=\"https://colab.research.google.com/github/Elias98upc/Semana-2-de-clase-de-algoritmos/blob/main/templates.ipynb\" target=\"_parent\"><img src=\"https://colab.research.google.com/assets/colab-badge.svg\" alt=\"Open In Colab\"/></a>"
      ]
    },
    {
      "cell_type": "markdown",
      "source": [
        "#ejemplo 1:\n",
        "> introducion a google colab "
      ],
      "metadata": {
        "id": "fslgrd_F8V1-"
      }
    },
    {
      "cell_type": "code",
      "execution_count": null,
      "metadata": {
        "id": "a3Y_B0TX6Cw2",
        "colab": {
          "base_uri": "https://localhost:8080/"
        },
        "outputId": "46b3f630-26c8-4a06-e533-fb193a198f27"
      },
      "outputs": [
        {
          "output_type": "stream",
          "name": "stdout",
          "text": [
            "Overwriting ejemplo1.cpp\n"
          ]
        }
      ],
      "source": [
        "%%writefile ejemplo1.cpp\n",
        "#include <iostream>\n",
        "using namespace std;\n",
        "int main()\n",
        "{\n",
        "    cout<<\"Peru al mundial\";\n",
        " return 0;\n",
        "\n",
        "}"
      ]
    },
    {
      "cell_type": "markdown",
      "source": [
        "Compilacion del codigo\n",
        "> el g++ es un programa compilador "
      ],
      "metadata": {
        "id": "b5zdW94v8kP5"
      }
    },
    {
      "cell_type": "code",
      "source": [
        "!g++ ejemplo1.cpp"
      ],
      "metadata": {
        "id": "s6NzYpUq8K5W"
      },
      "execution_count": null,
      "outputs": []
    },
    {
      "cell_type": "markdown",
      "source": [
        "Ejecucion del codigo\n",
        "> a.out es el archivo por defecto del programa objeto(el archivo binario ejecutable)"
      ],
      "metadata": {
        "id": "HN4f6lJp8pGy"
      }
    },
    {
      "cell_type": "code",
      "source": [
        "!./a.out"
      ],
      "metadata": {
        "colab": {
          "base_uri": "https://localhost:8080/"
        },
        "id": "UbTm-AA38sp9",
        "outputId": "871a74ca-9c0e-4f30-c292-a3c759cbdd30"
      },
      "execution_count": null,
      "outputs": [
        {
          "output_type": "stream",
          "name": "stdout",
          "text": [
            "Peru al mundial"
          ]
        }
      ]
    },
    {
      "cell_type": "code",
      "source": [
        "!g++ ejemplo1.cpp &&  ./a.out"
      ],
      "metadata": {
        "colab": {
          "base_uri": "https://localhost:8080/"
        },
        "id": "T1KtdffI89V3",
        "outputId": "a32ddbd6-69e8-4b74-a553-5e7e1c93ffcb"
      },
      "execution_count": null,
      "outputs": [
        {
          "output_type": "stream",
          "name": "stdout",
          "text": [
            "Peru al mundial"
          ]
        }
      ]
    },
    {
      "cell_type": "markdown",
      "source": [
        "## Ejemplo 2 \n",
        "> Elaborar un programa en entorno consola que permita almacenar en un arreglo hasta 100 valores enteros. Luego realice lo siguiente:\n",
        "* Generar los datos del arreglo en forma aleatoria\n",
        "*\tListar en pantalla los elementos del arreglo\n",
        "*\tBuscar el mayor y mostrar su ubicación\n",
        "*\tBuscar el menor y mostrar su ubicación\n",
        "*\tOrdenar el arreglo en forma descendente y mostrarlo en pantalla\n",
        "* En la solución considere un menú de opciones para cada funcionalidad y utilice funciones, punteros y arreglos dinámicos."
      ],
      "metadata": {
        "id": "N7qv3h0ZJJbK"
      }
    },
    {
      "cell_type": "code",
      "source": [
        "%%writefile Biblioteca.hpp\n",
        "\n",
        "#include <iostream>\n",
        "#include <cstdlib>// srand, rand\n",
        "#include <ctime>//time\n",
        "\n",
        "using std::cout;\n",
        "using std::cin;\n",
        "//definición de la funcion\n",
        "void generar(short* a, size_t n);\n",
        "void listar(short*, size_t);\n",
        "void mayor(short*, size_t);\n",
        "void ordenar(short*, size_t);\n",
        "void mayorPromedio(short* a, size_t n);"
      ],
      "metadata": {
        "colab": {
          "base_uri": "https://localhost:8080/"
        },
        "id": "pQaykcda9Rhy",
        "outputId": "069d7e37-5f0d-4e53-fde6-af82ff075e71"
      },
      "execution_count": null,
      "outputs": [
        {
          "output_type": "stream",
          "name": "stdout",
          "text": [
            "Overwriting Biblioteca.hpp\n"
          ]
        }
      ]
    },
    {
      "cell_type": "code",
      "source": [
        "%%writefile Biblioteca.cpp\n",
        "\n",
        "#include \"Biblioteca.hpp\"\n",
        "\n",
        "void generar(short* a, size_t n){\n",
        "  for(size_t i=0;i<n;++i){\n",
        "      a[i]=rand()%101+100;//rango de 100 a 200    \n",
        "  }  \n",
        "}\n",
        "\n",
        "void listar(short* a, size_t n){\n",
        "for(size_t i=0;i<n;++i){\n",
        "      cout<<i<<\"-> \"<<a[i]<<\"\\n\";\n",
        "  }  \n",
        "}\n",
        "\n",
        "void mayor(short* a, size_t n){\n",
        "  short _mayor=a[0], _pos=-1;\n",
        "  \n",
        "for(size_t i=1;i<n;++i){\n",
        "  if(a[i]>_mayor){\n",
        "      _mayor=a[i];//actualizo el mayor\n",
        "      _pos=i;\n",
        "    }\n",
        "  }\n",
        "  cout<<\"El mayor valor es\"<<_mayor<<\" y se encuentra en la posicion\"<<_pos<<\"\\n\";\n",
        "}\n",
        "void ordenar(short* a, size_t n){\n",
        "  for(int i=0;i<n-1;++i){\n",
        "  for(int j=i+1;j<n;++j){\n",
        "   if(a[i]>a[j]){\n",
        "    short aux=a[i];\n",
        "    a[i]=a[j];\n",
        "    a[j]=aux;\n",
        "  }\n",
        "}\n",
        "    }\n",
        "}\n",
        "void mayorPromedio(short* a, size_t n){\n",
        "  float prom=0.0f;    \n",
        "  //obteniendo el promedio\n",
        "  for(int i=0;i<n-1;++i)\n",
        "        prom+=a[i];\n",
        "  prom/=n;//prom=prom/n   \n",
        "  //listar mayor al promedio\n",
        "  for(int i=0;i<n-1;++i)\n",
        "        if(a[i]>prom)cout<<i<<\"->\"<<a[i]<<\"\\n\";\n",
        "  }"
      ],
      "metadata": {
        "colab": {
          "base_uri": "https://localhost:8080/"
        },
        "id": "t6ZjZ_s-KRd7",
        "outputId": "c221e6dc-aa8a-4b7c-e1d3-589008e73c10"
      },
      "execution_count": null,
      "outputs": [
        {
          "output_type": "stream",
          "name": "stdout",
          "text": [
            "Overwriting Biblioteca.cpp\n"
          ]
        }
      ]
    },
    {
      "cell_type": "code",
      "source": [
        "%%writefile Ejemplo2.cpp\n",
        "#include \"Biblioteca.hpp\"\n",
        "int main() {\n",
        "short* arreglo=new short[100];  \n",
        "srand(time(NULL));//inicializacion de la semilla\n",
        "generar(arreglo,100);\n",
        "listar(arreglo, 100);\n",
        "//mayor(arreglo, 100);  \n",
        "ordenar(arreglo, 100);\n",
        "cout<<\"-------------\\n\";\n",
        "//listar(arreglo, 100);\n",
        "  mayorPromedio(arreglo, 100);\n",
        "}"
      ],
      "metadata": {
        "colab": {
          "base_uri": "https://localhost:8080/"
        },
        "id": "mhLjrm-IK7aL",
        "outputId": "f12ce945-b82e-4af9-8f67-019f755d483c"
      },
      "execution_count": null,
      "outputs": [
        {
          "output_type": "stream",
          "name": "stdout",
          "text": [
            "Overwriting Ejemplo2.cpp\n"
          ]
        }
      ]
    },
    {
      "cell_type": "markdown",
      "source": [
        "Depurando\n"
      ],
      "metadata": {
        "id": "4zZ6Q2zjMiNe"
      }
    },
    {
      "cell_type": "code",
      "source": [
        "!g++ Biblioteca.cpp Ejemplo2.cpp && ./a.out\n"
      ],
      "metadata": {
        "id": "N-T-tAwGL7F5"
      },
      "execution_count": null,
      "outputs": []
    },
    {
      "cell_type": "markdown",
      "source": [
        "Ejemplo 3 \n",
        "> Tema Templates\n"
      ],
      "metadata": {
        "id": "hngJEatguNoD"
      }
    },
    {
      "cell_type": "code",
      "source": [
        "%%writefile Biblioteca.hpp\n",
        "\n",
        "#include <iostream>\n",
        "#include <cstdlib>// srand, rand\n",
        "#include <ctime>//time\n",
        "\n",
        "using std::cout;\n",
        "using std::cin;\n",
        "template<typemane Generico>\n",
        "class Arreglo\n",
        "{\n",
        "    Generico* a;\n",
        "    Short* a;\n",
        "    size_t n;\n",
        "    size_t id;\n",
        "    public:\n",
        " Arreglo(){\n",
        "     n=10;\n",
        "a= new generico[n];\n",
        "id=0;\n",
        "\n",
        " }\n",
        "\n",
        "    void insertar(Generico e)\n",
        "    {\n",
        "        if(id<n)\n",
        "        {\n",
        "        a[id++]=0;\n",
        "\n",
        "        }\n",
        "\n",
        "\n",
        "    }\n",
        "    void listar()\n",
        "    {\n",
        "        for(size_t i=0;i<n;++i){\n",
        "      cout<<i<<\"-> \"<<a[i]<<\"\\n\";\n",
        "\n",
        "    }\n",
        "\n",
        "\n",
        "\n",
        "};\n"
      ],
      "metadata": {
        "colab": {
          "base_uri": "https://localhost:8080/"
        },
        "id": "f3K0Sy5kuUPQ",
        "outputId": "770113f3-3d6e-4d42-bbe6-4def49707637"
      },
      "execution_count": null,
      "outputs": [
        {
          "output_type": "stream",
          "name": "stdout",
          "text": [
            "Writing Biblioteca.hpp\n"
          ]
        }
      ]
    },
    {
      "cell_type": "code",
      "source": [
        "%%writefile ejemplo3.cpp\n",
        "\n",
        "#include <iostream>\n",
        "\n",
        "#include \"Biblioteca.hpp\"\n",
        "\n",
        "using std::cout;\n",
        "\n",
        "int main(){\n",
        "\n",
        "    Arreglo<short>*arr1=new Arreglo<short>();\n",
        "\n",
        "    Arreglo<float>*arr2=new Arreglo<float>();\n",
        "\n",
        "    Arreglo<long>*arr3=new Arreglo<long>();\n",
        "\n",
        "    for(size_t i=0;i<10;++i){\n",
        "\n",
        "        arr1->insertar(i);\n",
        "\n",
        "        arr2->insertar(i*1.987);\n",
        "\n",
        "        arr3->insertar(i*10000000);\n",
        "\n",
        "    }\n",
        "\n",
        "    arr1->listar();\n",
        "\n",
        "    cout<<\"\\n\";\n",
        "\n",
        "    arr2->listar();\n",
        "\n",
        "    cout<<\"\\n\";\n",
        "\n",
        "    arr3->listar();\n",
        "\n",
        "}"
      ],
      "metadata": {
        "colab": {
          "base_uri": "https://localhost:8080/"
        },
        "id": "T-UmL6sbzrrF",
        "outputId": "889c3c7c-65cf-45b7-cded-45662302a609"
      },
      "execution_count": null,
      "outputs": [
        {
          "output_type": "stream",
          "name": "stdout",
          "text": [
            "Writing ejemplo3.cpp\n"
          ]
        }
      ]
    },
    {
      "cell_type": "code",
      "source": [
        ""
      ],
      "metadata": {
        "id": "aUvU02j51grk"
      },
      "execution_count": null,
      "outputs": []
    }
  ]
}